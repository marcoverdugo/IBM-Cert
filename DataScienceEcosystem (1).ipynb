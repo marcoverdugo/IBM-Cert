{
  "metadata": {
    "kernelspec": {
      "name": "python",
      "display_name": "Python (Pyodide)",
      "language": "python"
    },
    "language_info": {
      "codemirror_mode": {
        "name": "python",
        "version": 3
      },
      "file_extension": ".py",
      "mimetype": "text/x-python",
      "name": "python",
      "nbconvert_exporter": "python",
      "pygments_lexer": "ipython3",
      "version": "3.8"
    }
  },
  "nbformat_minor": 4,
  "nbformat": 4,
  "cells": [
    {
      "cell_type": "markdown",
      "source": "# Data Science Tools and Ecosystem ",
      "metadata": {}
    },
    {
      "cell_type": "markdown",
      "source": "# In this notebook, Data Science Tools and Ecosystems are summarized.",
      "metadata": {}
    },
    {
      "cell_type": "markdown",
      "source": "## Some of the popular languages that Data Scientists use are:\n1. Python\n2. SQL\n3. R\n4. VBA\n5. JULIA\n6. JAVA\n7. Scala\n\n",
      "metadata": {}
    },
    {
      "cell_type": "markdown",
      "source": "### Some of the commonly used libraries used by Data Scientists include:\n1. TensorFlow\n2. NumPy\n3. SciPy\n4. Pandas\n5. Matplotlib\n6. PyTorch\n7. Keras",
      "metadata": {}
    },
    {
      "cell_type": "markdown",
      "source": "#\n\n|Data Science Tools|   |   |\n|---|---|---|\n| R STudio | \n|Apache Spark | \n|TensorFlow||\n\n   |",
      "metadata": {}
    },
    {
      "cell_type": "code",
      "source": "# Below are a few examples of evaluating arithmetic expressions in Python\n\nx= 1\ny=3\n\nx+y \n\n\n",
      "metadata": {
        "trusted": true
      },
      "outputs": [
        {
          "execution_count": 9,
          "output_type": "execute_result",
          "data": {
            "text/plain": "4"
          },
          "metadata": {}
        }
      ],
      "execution_count": 9
    },
    {
      "cell_type": "code",
      "source": "###### This a simple arithmetic expression to multiply and then add integers\n\n(3*4)+5\n",
      "metadata": {
        "trusted": true
      },
      "outputs": [
        {
          "execution_count": 10,
          "output_type": "execute_result",
          "data": {
            "text/plain": "17"
          },
          "metadata": {}
        }
      ],
      "execution_count": 10
    },
    {
      "cell_type": "markdown",
      "source": "### This will convert 200 minutes to hours by diving by 60.\n\r\nhours =20/ 60\n\n",
      "metadata": {}
    },
    {
      "cell_type": "markdown",
      "source": "# Objectives:\n\nList popular languages for Data Science:\n1. Python\n2. SQL\n3. R ",
      "metadata": {}
    },
    {
      "cell_type": "markdown",
      "source": "## Author\nMarco Verdugo ",
      "metadata": {}
    },
    {
      "cell_type": "code",
      "source": "",
      "metadata": {
        "trusted": true
      },
      "outputs": [],
      "execution_count": null
    }
  ]
}